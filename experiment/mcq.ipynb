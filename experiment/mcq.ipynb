{
 "cells": [
  {
   "cell_type": "code",
   "execution_count": 102,
   "metadata": {},
   "outputs": [],
   "source": [
    "import os\n",
    "import json\n",
    "import pandas as pd\n",
    "import traceback\n",
    "import streamlit as st"
   ]
  },
  {
   "cell_type": "code",
   "execution_count": 103,
   "metadata": {},
   "outputs": [],
   "source": [
    "from langchain.chat_models import ChatOpenAI"
   ]
  },
  {
   "cell_type": "code",
   "execution_count": 104,
   "metadata": {},
   "outputs": [
    {
     "data": {
      "text/plain": [
       "True"
      ]
     },
     "execution_count": 104,
     "metadata": {},
     "output_type": "execute_result"
    }
   ],
   "source": [
    "from dotenv import load_dotenv\n",
    "\n",
    "load_dotenv()"
   ]
  },
  {
   "cell_type": "code",
   "execution_count": 105,
   "metadata": {},
   "outputs": [],
   "source": [
    "KEY=st.secrets.get(\"OPENAI_API_KEY\")"
   ]
  },
  {
   "cell_type": "code",
   "execution_count": 106,
   "metadata": {},
   "outputs": [],
   "source": [
    "llm=ChatOpenAI(openai_api_key=KEY,model_name=\"gpt-3.5-turbo\", temperature=0.5)"
   ]
  },
  {
   "cell_type": "code",
   "execution_count": 107,
   "metadata": {},
   "outputs": [],
   "source": [
    "from langchain.llms import OpenAI\n",
    "from langchain.prompts import PromptTemplate\n",
    "from langchain.chains import LLMChain\n",
    "from langchain.chains import SequentialChain\n",
    "from langchain.callbacks import get_openai_callback\n",
    "import PyPDF2"
   ]
  },
  {
   "cell_type": "code",
   "execution_count": 108,
   "metadata": {},
   "outputs": [],
   "source": [
    "RESPONSE_JSON = {\n",
    "    \"1\": {\n",
    "        \"mcq\": \"multiple choice question\",\n",
    "        \"options\": {\n",
    "            \"a\": \"choice here\",\n",
    "            \"b\": \"choice here\",\n",
    "            \"c\": \"choice here\",\n",
    "            \"d\": \"choice here\",\n",
    "        },\n",
    "        \"correct\": \"correct answer\",\n",
    "    },\n",
    "    \"2\": {\n",
    "        \"mcq\": \"multiple choice question\",\n",
    "        \"options\": {\n",
    "            \"a\": \"choice here\",\n",
    "            \"b\": \"choice here\",\n",
    "            \"c\": \"choice here\",\n",
    "            \"d\": \"choice here\",\n",
    "        },\n",
    "        \"correct\": \"correct answer\",\n",
    "    },\n",
    "    \"3\": {\n",
    "        \"mcq\": \"multiple choice question\",\n",
    "        \"options\": {\n",
    "            \"a\": \"choice here\",\n",
    "            \"b\": \"choice here\",\n",
    "            \"c\": \"choice here\",\n",
    "            \"d\": \"choice here\",\n",
    "        },\n",
    "        \"correct\": \"correct answer\",\n",
    "    },\n",
    "}"
   ]
  },
  {
   "cell_type": "code",
   "execution_count": 109,
   "metadata": {},
   "outputs": [],
   "source": [
    "TEMPLATE=\"\"\"\n",
    "Text:{text}\n",
    "You are an expert MCQ maker. Given the above text, it is your job to \\\n",
    "create a quiz  of {number} multiple choice questions for {subject} students in {tone} tone. \n",
    "Make sure the questions are not repeated and check all the questions to be conforming the text as well.\n",
    "Make sure to format your response like  RESPONSE_JSON below  and use it as a guide. \\\n",
    "Ensure to make {number} MCQs\n",
    "### RESPONSE_JSON\n",
    "{response_json}\n",
    "\n",
    "\"\"\""
   ]
  },
  {
   "cell_type": "code",
   "execution_count": 110,
   "metadata": {},
   "outputs": [],
   "source": [
    "quiz_generation_prompt = PromptTemplate(\n",
    "    input_variables=[\"text\", \"number\", \"subject\", \"tone\", \"response_json\"],\n",
    "    template=TEMPLATE\n",
    "    )"
   ]
  },
  {
   "cell_type": "code",
   "execution_count": 111,
   "metadata": {},
   "outputs": [],
   "source": [
    "quiz_chain=LLMChain(llm=llm, prompt=quiz_generation_prompt, output_key=\"quiz\", verbose=True)"
   ]
  },
  {
   "cell_type": "code",
   "execution_count": 112,
   "metadata": {},
   "outputs": [],
   "source": [
    "TEMPLATE2=\"\"\"\n",
    "You are an expert english grammarian and writer. Given a Multiple Choice Quiz for {subject} students.\\\n",
    "You need to evaluate the complexity of the question and give a complete analysis of the quiz. Only use at max 50 words for complexity analysis. \n",
    "if the quiz is not at per with the cognitive and analytical abilities of the students,\\\n",
    "update the quiz questions which needs to be changed and change the tone such that it perfectly fits the student abilities\n",
    "Quiz_MCQs:\n",
    "{quiz}\n",
    "\n",
    "Check from an expert English Writer of the above quiz:\n",
    "\"\"\""
   ]
  },
  {
   "cell_type": "code",
   "execution_count": 113,
   "metadata": {},
   "outputs": [],
   "source": [
    "quiz_evaluation_prompt=PromptTemplate(input_variables=[\"subject\", \"quiz\"], template=TEMPLATE)"
   ]
  },
  {
   "cell_type": "code",
   "execution_count": 114,
   "metadata": {},
   "outputs": [],
   "source": [
    "review_chain=LLMChain(llm=llm, prompt=quiz_evaluation_prompt, output_key=\"review\", verbose=True)"
   ]
  },
  {
   "cell_type": "code",
   "execution_count": 115,
   "metadata": {},
   "outputs": [],
   "source": [
    "generate_evaluate_chain=SequentialChain(chains=[quiz_chain, review_chain], input_variables=[\"text\", \"number\", \"subject\", \"tone\", \"response_json\"],\n",
    "                                        output_variables=[\"quiz\", \"review\"], verbose=True,)"
   ]
  },
  {
   "cell_type": "code",
   "execution_count": 116,
   "metadata": {},
   "outputs": [],
   "source": [
    "file_path=r\"D:\\mcqgenerator\\data.txt\""
   ]
  },
  {
   "cell_type": "code",
   "execution_count": 117,
   "metadata": {},
   "outputs": [],
   "source": [
    "with open(file_path, 'r') as file:\n",
    "    TEXT = file.read()"
   ]
  },
  {
   "cell_type": "code",
   "execution_count": 118,
   "metadata": {},
   "outputs": [
    {
     "name": "stdout",
     "output_type": "stream",
     "text": [
      "### Machine Learning: An Overview\n",
      "\n",
      "#### Introduction to Machine Learning\n",
      "Machine Learning (ML) is a branch of artificial intelligence (AI) that focuses on the development of algorithms that allow computers to learn and make decisions based on data. Unlike traditional programming, where specific instructions are coded by humans, machine learning algorithms learn from data to make predictions or decisions without being explicitly programmed for the task.\n",
      "\n",
      "#### Types of Machine Learning\n",
      "Machine Learning is broadly categorized into three types:\n",
      "\n",
      "1. **Supervised Learning:** In supervised learning, the algorithm is trained on labeled data. This means the input data is paired with the correct output. The goal is for the algorithm to learn a mapping from inputs to outputs and make predictions on unseen data. Common applications include image classification, spam detection, and predictive analytics.\n",
      "\n",
      "2. **Unsupervised Learning:** Unsupervised learning involves training on data without labeled responses. The algorithm tries to learn the underlying structure of the data. Techniques such as clustering (grouping similar data points) and dimensionality reduction (reducing the number of variables in a dataset) are common in this category. Examples include customer segmentation and anomaly detection.\n",
      "\n",
      "3. **Reinforcement Learning:** In reinforcement learning, an agent interacts with an environment and learns to perform actions that maximize cumulative rewards. The agent learns from the consequences of its actions, which can be immediate or delayed. This type of learning is often used in robotics, game playing (e.g., AlphaGo), and autonomous systems.\n",
      "\n",
      "#### Key Concepts in Machine Learning\n",
      "- **Feature Engineering:** The process of selecting, modifying, or creating new variables (features) from raw data that will help the model make better predictions.\n",
      "  \n",
      "- **Model Training:** The process of teaching an ML algorithm to recognize patterns in data by adjusting the parameters of the model using a training dataset.\n",
      "  \n",
      "- **Overfitting and Underfitting:** Overfitting occurs when a model learns the training data too well, including its noise, leading to poor generalization on new data. Underfitting happens when the model is too simple and fails to capture the underlying trend of the data.\n",
      "\n",
      "- **Evaluation Metrics:** Common metrics include accuracy, precision, recall, F1-score for classification tasks, and mean squared error (MSE) or root mean squared error (RMSE) for regression tasks.\n",
      "\n",
      "#### Popular Machine Learning Algorithms\n",
      "- **Linear Regression:** A basic regression technique that models the relationship between a dependent variable and one or more independent variables by fitting a linear equation to observed data.\n",
      "  \n",
      "- **Decision Trees:** A tree-like model used for classification and regression tasks that splits data into branches based on feature values.\n",
      "\n",
      "- **Support Vector Machines (SVM):** A classification method that finds the hyperplane that best separates different classes in the data.\n",
      "\n",
      "- **Neural Networks:** A set of algorithms, modeled loosely after the human brain, designed to recognize patterns. They are the foundation of deep learning, which is a subset of machine learning.\n",
      "\n",
      "- **K-Nearest Neighbors (KNN):** A simple, instance-based learning algorithm that classifies data points based on the majority label among the nearest neighbors.\n",
      "\n",
      "#### Applications of Machine Learning\n",
      "Machine Learning has become integral to many industries, enabling innovations and efficiencies:\n",
      "\n",
      "- **Healthcare:** Predicting patient outcomes, disease diagnosis, and personalized treatment plans.\n",
      "  \n",
      "- **Finance:** Fraud detection, algorithmic trading, credit scoring, and risk management.\n",
      "\n",
      "- **Retail:** Customer segmentation, recommendation systems, and inventory management.\n",
      "\n",
      "- **Transportation:** Autonomous vehicles, traffic prediction, and route optimization.\n",
      "\n",
      "- **Marketing:** Targeted advertising, customer behavior analysis, and sentiment analysis.\n",
      "\n",
      "#### The Future of Machine Learning\n",
      "The field of machine learning is rapidly evolving, with advancements in algorithms, computational power, and data availability. Emerging trends include:\n",
      "\n",
      "- **Explainable AI (XAI):** Efforts to make ML models more interpretable and transparent, especially in high-stakes domains like healthcare and finance.\n",
      "\n",
      "- **AutoML:** Automated machine learning platforms that enable non-experts to deploy machine learning models by automating the model selection, hyperparameter tuning, and feature engineering processes.\n",
      "\n",
      "- **Federated Learning:** A distributed approach to training models across decentralized devices while preserving data privacy.\n",
      "\n",
      "- **Edge AI:** Running machine learning models on edge devices like smartphones and IoT devices, reducing latency and improving privacy.\n",
      "\n",
      "Machine Learning is transforming the way we interact with technology, making systems smarter, more efficient, and more capable of understanding and responding to the world around us. As the field continues to grow, its impact on society and industry will only deepen, creating new opportunities and challenges in equal measure.\n"
     ]
    }
   ],
   "source": [
    "print(TEXT)"
   ]
  },
  {
   "cell_type": "code",
   "execution_count": 120,
   "metadata": {},
   "outputs": [],
   "source": [
    "NUMBER=5 \n",
    "SUBJECT=\"Machine learning\"\n",
    "TONE=\"simple\""
   ]
  },
  {
   "cell_type": "code",
   "execution_count": 121,
   "metadata": {},
   "outputs": [
    {
     "name": "stdout",
     "output_type": "stream",
     "text": [
      "\n",
      "\n",
      "\u001b[1m> Entering new SequentialChain chain...\u001b[0m\n",
      "\n",
      "\n",
      "\u001b[1m> Entering new LLMChain chain...\u001b[0m\n",
      "Prompt after formatting:\n",
      "\u001b[32;1m\u001b[1;3m\n",
      "Text:### Machine Learning: An Overview\n",
      "\n",
      "#### Introduction to Machine Learning\n",
      "Machine Learning (ML) is a branch of artificial intelligence (AI) that focuses on the development of algorithms that allow computers to learn and make decisions based on data. Unlike traditional programming, where specific instructions are coded by humans, machine learning algorithms learn from data to make predictions or decisions without being explicitly programmed for the task.\n",
      "\n",
      "#### Types of Machine Learning\n",
      "Machine Learning is broadly categorized into three types:\n",
      "\n",
      "1. **Supervised Learning:** In supervised learning, the algorithm is trained on labeled data. This means the input data is paired with the correct output. The goal is for the algorithm to learn a mapping from inputs to outputs and make predictions on unseen data. Common applications include image classification, spam detection, and predictive analytics.\n",
      "\n",
      "2. **Unsupervised Learning:** Unsupervised learning involves training on data without labeled responses. The algorithm tries to learn the underlying structure of the data. Techniques such as clustering (grouping similar data points) and dimensionality reduction (reducing the number of variables in a dataset) are common in this category. Examples include customer segmentation and anomaly detection.\n",
      "\n",
      "3. **Reinforcement Learning:** In reinforcement learning, an agent interacts with an environment and learns to perform actions that maximize cumulative rewards. The agent learns from the consequences of its actions, which can be immediate or delayed. This type of learning is often used in robotics, game playing (e.g., AlphaGo), and autonomous systems.\n",
      "\n",
      "#### Key Concepts in Machine Learning\n",
      "- **Feature Engineering:** The process of selecting, modifying, or creating new variables (features) from raw data that will help the model make better predictions.\n",
      "  \n",
      "- **Model Training:** The process of teaching an ML algorithm to recognize patterns in data by adjusting the parameters of the model using a training dataset.\n",
      "  \n",
      "- **Overfitting and Underfitting:** Overfitting occurs when a model learns the training data too well, including its noise, leading to poor generalization on new data. Underfitting happens when the model is too simple and fails to capture the underlying trend of the data.\n",
      "\n",
      "- **Evaluation Metrics:** Common metrics include accuracy, precision, recall, F1-score for classification tasks, and mean squared error (MSE) or root mean squared error (RMSE) for regression tasks.\n",
      "\n",
      "#### Popular Machine Learning Algorithms\n",
      "- **Linear Regression:** A basic regression technique that models the relationship between a dependent variable and one or more independent variables by fitting a linear equation to observed data.\n",
      "  \n",
      "- **Decision Trees:** A tree-like model used for classification and regression tasks that splits data into branches based on feature values.\n",
      "\n",
      "- **Support Vector Machines (SVM):** A classification method that finds the hyperplane that best separates different classes in the data.\n",
      "\n",
      "- **Neural Networks:** A set of algorithms, modeled loosely after the human brain, designed to recognize patterns. They are the foundation of deep learning, which is a subset of machine learning.\n",
      "\n",
      "- **K-Nearest Neighbors (KNN):** A simple, instance-based learning algorithm that classifies data points based on the majority label among the nearest neighbors.\n",
      "\n",
      "#### Applications of Machine Learning\n",
      "Machine Learning has become integral to many industries, enabling innovations and efficiencies:\n",
      "\n",
      "- **Healthcare:** Predicting patient outcomes, disease diagnosis, and personalized treatment plans.\n",
      "  \n",
      "- **Finance:** Fraud detection, algorithmic trading, credit scoring, and risk management.\n",
      "\n",
      "- **Retail:** Customer segmentation, recommendation systems, and inventory management.\n",
      "\n",
      "- **Transportation:** Autonomous vehicles, traffic prediction, and route optimization.\n",
      "\n",
      "- **Marketing:** Targeted advertising, customer behavior analysis, and sentiment analysis.\n",
      "\n",
      "#### The Future of Machine Learning\n",
      "The field of machine learning is rapidly evolving, with advancements in algorithms, computational power, and data availability. Emerging trends include:\n",
      "\n",
      "- **Explainable AI (XAI):** Efforts to make ML models more interpretable and transparent, especially in high-stakes domains like healthcare and finance.\n",
      "\n",
      "- **AutoML:** Automated machine learning platforms that enable non-experts to deploy machine learning models by automating the model selection, hyperparameter tuning, and feature engineering processes.\n",
      "\n",
      "- **Federated Learning:** A distributed approach to training models across decentralized devices while preserving data privacy.\n",
      "\n",
      "- **Edge AI:** Running machine learning models on edge devices like smartphones and IoT devices, reducing latency and improving privacy.\n",
      "\n",
      "Machine Learning is transforming the way we interact with technology, making systems smarter, more efficient, and more capable of understanding and responding to the world around us. As the field continues to grow, its impact on society and industry will only deepen, creating new opportunities and challenges in equal measure.\n",
      "You are an expert MCQ maker. Given the above text, it is your job to create a quiz  of 5 multiple choice questions for Machine learning students in simple tone. \n",
      "Make sure the questions are not repeated and check all the questions to be conforming the text as well.\n",
      "Make sure to format your response like  RESPONSE_JSON below  and use it as a guide. Ensure to make 5 MCQs\n",
      "### RESPONSE_JSON\n",
      "{\"1\": {\"mcq\": \"multiple choice question\", \"options\": {\"a\": \"choice here\", \"b\": \"choice here\", \"c\": \"choice here\", \"d\": \"choice here\"}, \"correct\": \"correct answer\"}, \"2\": {\"mcq\": \"multiple choice question\", \"options\": {\"a\": \"choice here\", \"b\": \"choice here\", \"c\": \"choice here\", \"d\": \"choice here\"}, \"correct\": \"correct answer\"}, \"3\": {\"mcq\": \"multiple choice question\", \"options\": {\"a\": \"choice here\", \"b\": \"choice here\", \"c\": \"choice here\", \"d\": \"choice here\"}, \"correct\": \"correct answer\"}}\n",
      "\n",
      "\u001b[0m\n",
      "\n",
      "\u001b[1m> Finished chain.\u001b[0m\n",
      "\n",
      "\n",
      "\u001b[1m> Entering new LLMChain chain...\u001b[0m\n",
      "Prompt after formatting:\n",
      "\u001b[32;1m\u001b[1;3m\n",
      "Text:### Machine Learning: An Overview\n",
      "\n",
      "#### Introduction to Machine Learning\n",
      "Machine Learning (ML) is a branch of artificial intelligence (AI) that focuses on the development of algorithms that allow computers to learn and make decisions based on data. Unlike traditional programming, where specific instructions are coded by humans, machine learning algorithms learn from data to make predictions or decisions without being explicitly programmed for the task.\n",
      "\n",
      "#### Types of Machine Learning\n",
      "Machine Learning is broadly categorized into three types:\n",
      "\n",
      "1. **Supervised Learning:** In supervised learning, the algorithm is trained on labeled data. This means the input data is paired with the correct output. The goal is for the algorithm to learn a mapping from inputs to outputs and make predictions on unseen data. Common applications include image classification, spam detection, and predictive analytics.\n",
      "\n",
      "2. **Unsupervised Learning:** Unsupervised learning involves training on data without labeled responses. The algorithm tries to learn the underlying structure of the data. Techniques such as clustering (grouping similar data points) and dimensionality reduction (reducing the number of variables in a dataset) are common in this category. Examples include customer segmentation and anomaly detection.\n",
      "\n",
      "3. **Reinforcement Learning:** In reinforcement learning, an agent interacts with an environment and learns to perform actions that maximize cumulative rewards. The agent learns from the consequences of its actions, which can be immediate or delayed. This type of learning is often used in robotics, game playing (e.g., AlphaGo), and autonomous systems.\n",
      "\n",
      "#### Key Concepts in Machine Learning\n",
      "- **Feature Engineering:** The process of selecting, modifying, or creating new variables (features) from raw data that will help the model make better predictions.\n",
      "  \n",
      "- **Model Training:** The process of teaching an ML algorithm to recognize patterns in data by adjusting the parameters of the model using a training dataset.\n",
      "  \n",
      "- **Overfitting and Underfitting:** Overfitting occurs when a model learns the training data too well, including its noise, leading to poor generalization on new data. Underfitting happens when the model is too simple and fails to capture the underlying trend of the data.\n",
      "\n",
      "- **Evaluation Metrics:** Common metrics include accuracy, precision, recall, F1-score for classification tasks, and mean squared error (MSE) or root mean squared error (RMSE) for regression tasks.\n",
      "\n",
      "#### Popular Machine Learning Algorithms\n",
      "- **Linear Regression:** A basic regression technique that models the relationship between a dependent variable and one or more independent variables by fitting a linear equation to observed data.\n",
      "  \n",
      "- **Decision Trees:** A tree-like model used for classification and regression tasks that splits data into branches based on feature values.\n",
      "\n",
      "- **Support Vector Machines (SVM):** A classification method that finds the hyperplane that best separates different classes in the data.\n",
      "\n",
      "- **Neural Networks:** A set of algorithms, modeled loosely after the human brain, designed to recognize patterns. They are the foundation of deep learning, which is a subset of machine learning.\n",
      "\n",
      "- **K-Nearest Neighbors (KNN):** A simple, instance-based learning algorithm that classifies data points based on the majority label among the nearest neighbors.\n",
      "\n",
      "#### Applications of Machine Learning\n",
      "Machine Learning has become integral to many industries, enabling innovations and efficiencies:\n",
      "\n",
      "- **Healthcare:** Predicting patient outcomes, disease diagnosis, and personalized treatment plans.\n",
      "  \n",
      "- **Finance:** Fraud detection, algorithmic trading, credit scoring, and risk management.\n",
      "\n",
      "- **Retail:** Customer segmentation, recommendation systems, and inventory management.\n",
      "\n",
      "- **Transportation:** Autonomous vehicles, traffic prediction, and route optimization.\n",
      "\n",
      "- **Marketing:** Targeted advertising, customer behavior analysis, and sentiment analysis.\n",
      "\n",
      "#### The Future of Machine Learning\n",
      "The field of machine learning is rapidly evolving, with advancements in algorithms, computational power, and data availability. Emerging trends include:\n",
      "\n",
      "- **Explainable AI (XAI):** Efforts to make ML models more interpretable and transparent, especially in high-stakes domains like healthcare and finance.\n",
      "\n",
      "- **AutoML:** Automated machine learning platforms that enable non-experts to deploy machine learning models by automating the model selection, hyperparameter tuning, and feature engineering processes.\n",
      "\n",
      "- **Federated Learning:** A distributed approach to training models across decentralized devices while preserving data privacy.\n",
      "\n",
      "- **Edge AI:** Running machine learning models on edge devices like smartphones and IoT devices, reducing latency and improving privacy.\n",
      "\n",
      "Machine Learning is transforming the way we interact with technology, making systems smarter, more efficient, and more capable of understanding and responding to the world around us. As the field continues to grow, its impact on society and industry will only deepen, creating new opportunities and challenges in equal measure.\n",
      "You are an expert MCQ maker. Given the above text, it is your job to create a quiz  of 5 multiple choice questions for Machine learning students in simple tone. \n",
      "Make sure the questions are not repeated and check all the questions to be conforming the text as well.\n",
      "Make sure to format your response like  RESPONSE_JSON below  and use it as a guide. Ensure to make 5 MCQs\n",
      "### RESPONSE_JSON\n",
      "{\"1\": {\"mcq\": \"multiple choice question\", \"options\": {\"a\": \"choice here\", \"b\": \"choice here\", \"c\": \"choice here\", \"d\": \"choice here\"}, \"correct\": \"correct answer\"}, \"2\": {\"mcq\": \"multiple choice question\", \"options\": {\"a\": \"choice here\", \"b\": \"choice here\", \"c\": \"choice here\", \"d\": \"choice here\"}, \"correct\": \"correct answer\"}, \"3\": {\"mcq\": \"multiple choice question\", \"options\": {\"a\": \"choice here\", \"b\": \"choice here\", \"c\": \"choice here\", \"d\": \"choice here\"}, \"correct\": \"correct answer\"}}\n",
      "\n",
      "\u001b[0m\n",
      "\n",
      "\u001b[1m> Finished chain.\u001b[0m\n",
      "\n",
      "\u001b[1m> Finished chain.\u001b[0m\n"
     ]
    }
   ],
   "source": [
    "#How to setup Token Usage Tracking in LangChain\n",
    "with get_openai_callback() as cb:\n",
    "    response=generate_evaluate_chain(\n",
    "        {\n",
    "            \"text\": TEXT,\n",
    "            \"number\": NUMBER,\n",
    "            \"subject\":SUBJECT,\n",
    "            \"tone\": TONE,\n",
    "            \"response_json\": json.dumps(RESPONSE_JSON)\n",
    "        }\n",
    "    )"
   ]
  },
  {
   "cell_type": "code",
   "execution_count": 122,
   "metadata": {},
   "outputs": [
    {
     "name": "stdout",
     "output_type": "stream",
     "text": [
      "Total Tokens:3117\n",
      "Prompt Tokens:2376\n",
      "Completion Tokens:741\n",
      "Total Cost:0.005046\n"
     ]
    }
   ],
   "source": [
    "print(f\"Total Tokens:{cb.total_tokens}\")\n",
    "print(f\"Prompt Tokens:{cb.prompt_tokens}\")\n",
    "print(f\"Completion Tokens:{cb.completion_tokens}\")\n",
    "print(f\"Total Cost:{cb.total_cost}\")"
   ]
  },
  {
   "cell_type": "code",
   "execution_count": 123,
   "metadata": {},
   "outputs": [
    {
     "data": {
      "text/plain": [
       "{'text': '### Machine Learning: An Overview\\n\\n#### Introduction to Machine Learning\\nMachine Learning (ML) is a branch of artificial intelligence (AI) that focuses on the development of algorithms that allow computers to learn and make decisions based on data. Unlike traditional programming, where specific instructions are coded by humans, machine learning algorithms learn from data to make predictions or decisions without being explicitly programmed for the task.\\n\\n#### Types of Machine Learning\\nMachine Learning is broadly categorized into three types:\\n\\n1. **Supervised Learning:** In supervised learning, the algorithm is trained on labeled data. This means the input data is paired with the correct output. The goal is for the algorithm to learn a mapping from inputs to outputs and make predictions on unseen data. Common applications include image classification, spam detection, and predictive analytics.\\n\\n2. **Unsupervised Learning:** Unsupervised learning involves training on data without labeled responses. The algorithm tries to learn the underlying structure of the data. Techniques such as clustering (grouping similar data points) and dimensionality reduction (reducing the number of variables in a dataset) are common in this category. Examples include customer segmentation and anomaly detection.\\n\\n3. **Reinforcement Learning:** In reinforcement learning, an agent interacts with an environment and learns to perform actions that maximize cumulative rewards. The agent learns from the consequences of its actions, which can be immediate or delayed. This type of learning is often used in robotics, game playing (e.g., AlphaGo), and autonomous systems.\\n\\n#### Key Concepts in Machine Learning\\n- **Feature Engineering:** The process of selecting, modifying, or creating new variables (features) from raw data that will help the model make better predictions.\\n  \\n- **Model Training:** The process of teaching an ML algorithm to recognize patterns in data by adjusting the parameters of the model using a training dataset.\\n  \\n- **Overfitting and Underfitting:** Overfitting occurs when a model learns the training data too well, including its noise, leading to poor generalization on new data. Underfitting happens when the model is too simple and fails to capture the underlying trend of the data.\\n\\n- **Evaluation Metrics:** Common metrics include accuracy, precision, recall, F1-score for classification tasks, and mean squared error (MSE) or root mean squared error (RMSE) for regression tasks.\\n\\n#### Popular Machine Learning Algorithms\\n- **Linear Regression:** A basic regression technique that models the relationship between a dependent variable and one or more independent variables by fitting a linear equation to observed data.\\n  \\n- **Decision Trees:** A tree-like model used for classification and regression tasks that splits data into branches based on feature values.\\n\\n- **Support Vector Machines (SVM):** A classification method that finds the hyperplane that best separates different classes in the data.\\n\\n- **Neural Networks:** A set of algorithms, modeled loosely after the human brain, designed to recognize patterns. They are the foundation of deep learning, which is a subset of machine learning.\\n\\n- **K-Nearest Neighbors (KNN):** A simple, instance-based learning algorithm that classifies data points based on the majority label among the nearest neighbors.\\n\\n#### Applications of Machine Learning\\nMachine Learning has become integral to many industries, enabling innovations and efficiencies:\\n\\n- **Healthcare:** Predicting patient outcomes, disease diagnosis, and personalized treatment plans.\\n  \\n- **Finance:** Fraud detection, algorithmic trading, credit scoring, and risk management.\\n\\n- **Retail:** Customer segmentation, recommendation systems, and inventory management.\\n\\n- **Transportation:** Autonomous vehicles, traffic prediction, and route optimization.\\n\\n- **Marketing:** Targeted advertising, customer behavior analysis, and sentiment analysis.\\n\\n#### The Future of Machine Learning\\nThe field of machine learning is rapidly evolving, with advancements in algorithms, computational power, and data availability. Emerging trends include:\\n\\n- **Explainable AI (XAI):** Efforts to make ML models more interpretable and transparent, especially in high-stakes domains like healthcare and finance.\\n\\n- **AutoML:** Automated machine learning platforms that enable non-experts to deploy machine learning models by automating the model selection, hyperparameter tuning, and feature engineering processes.\\n\\n- **Federated Learning:** A distributed approach to training models across decentralized devices while preserving data privacy.\\n\\n- **Edge AI:** Running machine learning models on edge devices like smartphones and IoT devices, reducing latency and improving privacy.\\n\\nMachine Learning is transforming the way we interact with technology, making systems smarter, more efficient, and more capable of understanding and responding to the world around us. As the field continues to grow, its impact on society and industry will only deepen, creating new opportunities and challenges in equal measure.',\n",
       " 'number': 5,\n",
       " 'subject': 'Machine learning',\n",
       " 'tone': 'simple',\n",
       " 'response_json': '{\"1\": {\"mcq\": \"multiple choice question\", \"options\": {\"a\": \"choice here\", \"b\": \"choice here\", \"c\": \"choice here\", \"d\": \"choice here\"}, \"correct\": \"correct answer\"}, \"2\": {\"mcq\": \"multiple choice question\", \"options\": {\"a\": \"choice here\", \"b\": \"choice here\", \"c\": \"choice here\", \"d\": \"choice here\"}, \"correct\": \"correct answer\"}, \"3\": {\"mcq\": \"multiple choice question\", \"options\": {\"a\": \"choice here\", \"b\": \"choice here\", \"c\": \"choice here\", \"d\": \"choice here\"}, \"correct\": \"correct answer\"}}',\n",
       " 'quiz': '{\\n    \"1\": {\\n        \"mcq\": \"What is the goal of supervised learning in machine learning?\",\\n        \"options\": {\\n            \"a\": \"To learn the underlying structure of data\",\\n            \"b\": \"To make predictions on unseen data based on labeled data\",\\n            \"c\": \"To interact with an environment and maximize cumulative rewards\",\\n            \"d\": \"To automate the model selection process\"\\n        },\\n        \"correct\": \"b\"\\n    },\\n    \"2\": {\\n        \"mcq\": \"Which type of learning involves training on data without labeled responses?\",\\n        \"options\": {\\n            \"a\": \"Supervised Learning\",\\n            \"b\": \"Unsupervised Learning\",\\n            \"c\": \"Reinforcement Learning\",\\n            \"d\": \"Feature Engineering\"\\n        },\\n        \"correct\": \"b\"\\n    },\\n    \"3\": {\\n        \"mcq\": \"What is the purpose of feature engineering in machine learning?\",\\n        \"options\": {\\n            \"a\": \"To automate the model selection process\",\\n            \"b\": \"To make predictions on unseen data\",\\n            \"c\": \"To select, modify, or create new variables from raw data\",\\n            \"d\": \"To maximize cumulative rewards\"\\n        },\\n        \"correct\": \"c\"\\n    },\\n    \"4\": {\\n        \"mcq\": \"Which machine learning algorithm is used for classification tasks by splitting data into branches based on feature values?\",\\n        \"options\": {\\n            \"a\": \"Linear Regression\",\\n            \"b\": \"Decision Trees\",\\n            \"c\": \"Support Vector Machines\",\\n            \"d\": \"Neural Networks\"\\n        },\\n        \"correct\": \"b\"\\n    },\\n    \"5\": {\\n        \"mcq\": \"In which industry can machine learning be used for predicting patient outcomes and disease diagnosis?\",\\n        \"options\": {\\n            \"a\": \"Retail\",\\n            \"b\": \"Transportation\",\\n            \"c\": \"Healthcare\",\\n            \"d\": \"Marketing\"\\n        },\\n        \"correct\": \"c\"\\n    }\\n}',\n",
       " 'review': '\\n{\\n\"1\": {\\n\"mcq\": \"What is the goal of supervised learning?\",\\n\"options\": {\\n\"a\": \"To train on data without labeled responses\",\\n\"b\": \"To learn the underlying structure of the data\",\\n\"c\": \"To make predictions on unseen data based on labeled data\",\\n\"d\": \"To interact with an environment and maximize rewards\"\\n},\\n\"correct\": \"c\"\\n},\\n\"2\": {\\n\"mcq\": \"Which type of learning involves clustering and dimensionality reduction?\",\\n\"options\": {\\n\"a\": \"Supervised Learning\",\\n\"b\": \"Unsupervised Learning\",\\n\"c\": \"Reinforcement Learning\",\\n\"d\": \"Feature Engineering\"\\n},\\n\"correct\": \"b\"\\n},\\n\"3\": {\\n\"mcq\": \"What is the process of adjusting model parameters using a training dataset?\",\\n\"options\": {\\n\"a\": \"Feature Engineering\",\\n\"b\": \"Model Training\",\\n\"c\": \"Overfitting\",\\n\"d\": \"Evaluation Metrics\"\\n},\\n\"correct\": \"b\"\\n},\\n\"4\": {\\n\"mcq\": \"Which algorithm is used for classifying data points based on nearest neighbors?\",\\n\"options\": {\\n\"a\": \"Linear Regression\",\\n\"b\": \"Decision Trees\",\\n\"c\": \"Support Vector Machines\",\\n\"d\": \"K-Nearest Neighbors\"\\n},\\n\"correct\": \"d\"\\n},\\n\"5\": {\\n\"mcq\": \"In which industry can machine learning be used for predicting patient outcomes?\",\\n\"options\": {\\n\"a\": \"Finance\",\\n\"b\": \"Retail\",\\n\"c\": \"Healthcare\",\\n\"d\": \"Transportation\"\\n},\\n\"correct\": \"c\"\\n}\\n}'}"
      ]
     },
     "execution_count": 123,
     "metadata": {},
     "output_type": "execute_result"
    }
   ],
   "source": [
    "response"
   ]
  },
  {
   "cell_type": "code",
   "execution_count": 124,
   "metadata": {},
   "outputs": [],
   "source": [
    "quiz=response.get(\"quiz\")"
   ]
  },
  {
   "cell_type": "code",
   "execution_count": 125,
   "metadata": {},
   "outputs": [],
   "source": [
    "quiz=json.loads(quiz)"
   ]
  },
  {
   "cell_type": "code",
   "execution_count": 126,
   "metadata": {},
   "outputs": [],
   "source": [
    "quiz_table_data = []\n",
    "for key, value in quiz.items():\n",
    "    mcq = value[\"mcq\"]\n",
    "    options = \" | \".join(\n",
    "        [\n",
    "            f\"{option}: {option_value}\"\n",
    "            for option, option_value in value[\"options\"].items()\n",
    "            ]\n",
    "        )\n",
    "    correct = value[\"correct\"]\n",
    "    quiz_table_data.append({\"MCQ\": mcq, \"Choices\": options, \"Correct\": correct})"
   ]
  },
  {
   "cell_type": "code",
   "execution_count": 127,
   "metadata": {},
   "outputs": [
    {
     "data": {
      "text/plain": [
       "[{'MCQ': 'What is the goal of supervised learning in machine learning?',\n",
       "  'Choices': 'a: To learn the underlying structure of data | b: To make predictions on unseen data based on labeled data | c: To interact with an environment and maximize cumulative rewards | d: To automate the model selection process',\n",
       "  'Correct': 'b'},\n",
       " {'MCQ': 'Which type of learning involves training on data without labeled responses?',\n",
       "  'Choices': 'a: Supervised Learning | b: Unsupervised Learning | c: Reinforcement Learning | d: Feature Engineering',\n",
       "  'Correct': 'b'},\n",
       " {'MCQ': 'What is the purpose of feature engineering in machine learning?',\n",
       "  'Choices': 'a: To automate the model selection process | b: To make predictions on unseen data | c: To select, modify, or create new variables from raw data | d: To maximize cumulative rewards',\n",
       "  'Correct': 'c'},\n",
       " {'MCQ': 'Which machine learning algorithm is used for classification tasks by splitting data into branches based on feature values?',\n",
       "  'Choices': 'a: Linear Regression | b: Decision Trees | c: Support Vector Machines | d: Neural Networks',\n",
       "  'Correct': 'b'},\n",
       " {'MCQ': 'In which industry can machine learning be used for predicting patient outcomes and disease diagnosis?',\n",
       "  'Choices': 'a: Retail | b: Transportation | c: Healthcare | d: Marketing',\n",
       "  'Correct': 'c'}]"
      ]
     },
     "execution_count": 127,
     "metadata": {},
     "output_type": "execute_result"
    }
   ],
   "source": [
    "quiz_table_data"
   ]
  },
  {
   "cell_type": "code",
   "execution_count": 128,
   "metadata": {},
   "outputs": [],
   "source": [
    "quiz=pd.DataFrame(quiz_table_data)"
   ]
  },
  {
   "cell_type": "code",
   "execution_count": 129,
   "metadata": {},
   "outputs": [],
   "source": [
    "quiz.to_csv(\"machinelearning.csv\",index=False)"
   ]
  },
  {
   "cell_type": "code",
   "execution_count": null,
   "metadata": {},
   "outputs": [],
   "source": []
  }
 ],
 "metadata": {
  "kernelspec": {
   "display_name": "Python 3",
   "language": "python",
   "name": "python3"
  },
  "language_info": {
   "name": "python",
   "version": "3.12.1"
  }
 },
 "nbformat": 4,
 "nbformat_minor": 2
}
